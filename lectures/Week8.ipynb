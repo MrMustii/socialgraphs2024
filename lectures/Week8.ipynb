{
 "cells": [
  {
   "cell_type": "markdown",
   "metadata": {},
   "source": [
    "# Intro\n",
    "\n",
    "It's the last time we meet in class for exercises! And to celebrate this mile-stone, I've put together an very nice little set of exercises. And if you're behind, don't worry. The workload is low!\n",
    "\n",
    "  - Part A: First, we play around with sentiment analysis\n",
    "  - That's it!\n"
   ]
  },
  {
   "cell_type": "markdown",
   "metadata": {},
   "source": [
    "# Part A: Sentiment analysis"
   ]
  },
  {
   "cell_type": "markdown",
   "metadata": {},
   "source": [
    "Sentiment analysis is another highly useful technique which we'll use to make sense of the Wiki\n",
    "data. Further, experience shows that it might well be very useful when you get to the project stage of the class."
   ]
  },
  {
   "cell_type": "markdown",
   "metadata": {},
   "source": [
    "\n",
    "\n",
    "> **Video Lecture**: Uncle Sune talks about sentiment and his own youthful adventures.\n",
    "\n"
   ]
  },
  {
   "cell_type": "code",
   "execution_count": 1,
   "metadata": {
    "scrolled": true
   },
   "outputs": [
    {
     "data": {
      "image/jpeg": "[encoded data removed]",
      "text/html": [
       "\n",
       "        <iframe\n",
       "            width=\"800\"\n",
       "            height=\"450\"\n",
       "            src=\"https://www.youtube.com/embed/JuYcaYYlfrI\"\n",
       "            frameborder=\"0\"\n",
       "            allowfullscreen\n",
       "            \n",
       "        ></iframe>\n",
       "        "
      ],
      "text/plain": [
       "<IPython.lib.display.YouTubeVideo at 0x105560280>"
      ]
     },
     "execution_count": 1,
     "metadata": {},
     "output_type": "execute_result"
    }
   ],
   "source": [
    "from IPython.display import YouTubeVideo\n",
    "YouTubeVideo(\"JuYcaYYlfrI\",width=800, height=450)"
   ]
  },
  {
   "cell_type": "code",
   "execution_count": 2,
   "metadata": {},
   "outputs": [
    {
     "data": {
      "image/jpeg": "[encoded data removed]",
      "text/html": [
       "\n",
       "        <iframe\n",
       "            width=\"800\"\n",
       "            height=\"450\"\n",
       "            src=\"https://www.youtube.com/embed/hY0UCD5UiiY\"\n",
       "            frameborder=\"0\"\n",
       "            allowfullscreen\n",
       "            \n",
       "        ></iframe>\n",
       "        "
      ],
      "text/plain": [
       "<IPython.lib.display.YouTubeVideo at 0x1055b59d0>"
      ]
     },
     "execution_count": 2,
     "metadata": {},
     "output_type": "execute_result"
    }
   ],
   "source": [
    "# There's also this one from 2010\n",
    "YouTubeVideo(\"hY0UCD5UiiY\",width=800, height=450)"
   ]
  },
  {
   "cell_type": "markdown",
   "metadata": {},
   "source": [
    "> Reading: [Temporal Patterns of Happiness and Information in a Global Social Network: Hedonometrics and Twitter](http://journals.plos.org/plosone/article?id=10.1371/journal.pone.0026752) \n"
   ]
  },
  {
   "cell_type": "markdown",
   "metadata": {},
   "source": [
    "*Exercise*: Sentiment distribution. \n",
    "> \n",
    "> * Download the LabMT wordlist. It's available as supplementary material from [Temporal Patterns of Happiness and Information in a Global Social Network: Hedonometrics and Twitter](http://journals.plos.org/plosone/article?id=10.1371/journal.pone.0026752) (Data Set S1). Describe briefly how the list was generated.\n",
    "> * Based on the LabMT word list, write a function that calculates sentiment given a list of tokens (the tokens should be lower case, etc).\n",
    "> * Iterage over the nodes in your network, tokenize each page, and calculate sentiment every single page. Now you have sentiment as a new nodal property.\n",
    "> * Calculate the average sentiment across all the pages. Also calculate the median, variance, 25th percentile, 75th percentile.\n",
    "> * Remember histograms? Create a histogram of all of the artists's associated page-sentiments. (And make it a nice histogram - use your histogram making skills from Week 2). Add the mean, meadian, ect from above to your plot.\n",
    "> * Who are the 10 artists with happiest and saddest pages?\n",
    "\n",
    "<div class=\"alert alert-block alert-info\">\n",
    "As long as you get the plots right, it's OK to use LLM help here.\n",
    "</div>\n",
    "\n",
    "*Exercise*: Community sentiment distribution. \n",
    "  \n",
    "> * Last week we calculated the stuctural communities of the graph. For this exercise, we use those communities (just the 10 largest ones). Specifically, you should calculate the average the average sentiment of the nodes in each community to find a *community level sentiment*. \n",
    ">   - Name each community by its three most connected characters. \n",
    ">   - What are the three happiest communities? \n",
    ">   - what are the three saddest communities?\n",
    ">   - Do these results confirm what you can learn about each community by comparing to the genres, checking out the word-clouds for each community, and reading the wiki-pages? \n",
    "> * Compare the sentiment of the happiest and saddest communities to the overall (entire network) distribution of sentiment that you calculated in the previous exercise. Are the communities very differenct from the average? Or do you find the sentiment to be quite similar across all of the communities?\n",
    "\n",
    "<div class=\"alert alert-block alert-info\">\n",
    "As above, feel free to go nuts with help from an LLM with this exercise for the technical parts. But try to answer the questions about interpreting the results with your own human brain.\n",
    "</div>\n",
    "\n",
    "**Note**: Calculating sentiment takes a long time, so arm yourself with patience as your code runs (remember to check that it runs correctly, before waiting patiently). Further, these tips may speed things up. And save somewhere, so you don't have to start over.\n",
    "\n",
    "**Tips for speed**\n",
    "* If you use `freqDist` prior to finding the sentiment, you only have to find it for every unique word and hereafter you can do a weighted mean.\n",
    "* More tips for speeding up loops https://wiki.python.org/moin/PythonSpeed/PerformanceTips#Loops"
   ]
  },
  {
   "cell_type": "code",
   "execution_count": 107,
   "metadata": {},
   "outputs": [
    {
     "name": "stderr",
     "output_type": "stream",
     "text": [
      "<>:42: SyntaxWarning: invalid escape sequence '\\g'\n",
      "<>:42: SyntaxWarning: invalid escape sequence '\\g'\n",
      "C:\\Users\\musti\\AppData\\Local\\Temp\\ipykernel_16980\\4205318021.py:42: SyntaxWarning: invalid escape sequence '\\g'\n",
      "  with open(\"Week_7_Resources\\graph_with_attributes.pkl\", \"rb\") as f:\n"
     ]
    },
    {
     "name": "stdout",
     "output_type": "stream",
     "text": [
      "Sentiment progress:  0.0\r"
     ]
    }
   ],
   "source": [
    "import networkx as nx\n",
    "import pandas as pd\n",
    "import pickle as pkl\n",
    "from nltk import word_tokenize\n",
    "from string import punctuation\n",
    "from functools import reduce\n",
    "import numpy as np\n",
    "import matplotlib.pyplot as plt\n",
    "\"\"\"\n",
    "*Exercise*: Sentiment distribution. \n",
    "> \n",
    "> * Based on the LabMT word list, write a function that calculates sentiment given a list of tokens (the tokens should be lower case, etc).\n",
    "> * Iterage over the nodes in your network, tokenize each page, and calculate sentiment every single page. Now you have sentiment as a new nodal property.\n",
    "> * Calculate the average sentiment across all the pages. Also calculate the median, variance, 25th percentile, 75th percentile.\n",
    "> * Remember histograms? Create a histogram of all of the artists's associated page-sentiments. (And make it a nice histogram - use your histogram making skills from Week 2). Add the mean, meadian, ect from above to your plot.\n",
    "> * Who are the 10 artists with happiest and saddest pages?\n",
    "\"\"\"\n",
    "wordlist = pd.read_csv('Week_8_Resources/word_list_sentiment.txt', sep=\"\\t\",header = 0)\n",
    "wordlist['twitter_rank'] = pd.to_numeric(wordlist['twitter_rank'], errors='coerce')\n",
    "wordlist['google_rank'] = pd.to_numeric(wordlist['google_rank'], errors='coerce')\n",
    "wordlist['nyt_rank'] = pd.to_numeric(wordlist['nyt_rank'], errors='coerce')\n",
    "wordlist['lyrics_rank'] = pd.to_numeric(wordlist['lyrics_rank'], errors='coerce')\n",
    "wordlist['happiness_rank'] = pd.to_numeric(wordlist['happiness_rank'], errors='coerce')\n",
    "wordlist['happiness_average'] = pd.to_numeric(wordlist['happiness_average'], errors='coerce')\n",
    "wordlist['happiness_standard_deviation'] = pd.to_numeric(wordlist['happiness_standard_deviation'], errors='coerce')\n",
    "\n",
    "\n",
    "\n",
    "## Function to calculate sentiment\n",
    "def sentiment(ls, wordlist):\n",
    "    word_to_happiness = dict(zip(wordlist['word'].str.lower(), wordlist['happiness_average']))\n",
    "    sentiment = 0\n",
    "    total_words=0\n",
    "    for word in ls:\n",
    "        word = word.lower()\n",
    "        if word in word_to_happiness:\n",
    "            sentiment += word_to_happiness[word]\n",
    "            total_words+=1\n",
    "    return sentiment/total_words\n",
    "\n",
    "## Load the graph\n",
    "with open(\"Week_7_Resources\\graph_with_attributes.pkl\", \"rb\") as f:\n",
    "    G = pkl.load(f)\n",
    "    G = G.to_undirected()\n",
    "\n",
    "punc_ls = list(punctuation)\n",
    "punc_ls.append(\"''\")\n",
    "punc_ls.append(\"``\")\n",
    "punc_ls.append(\"''\")\n",
    "punc_ls.append(\"—\")\n",
    "punc_ls.append(\"|-\")\n",
    "\n",
    "##tokenize each page \n",
    "nodes_done =0\n",
    "for node in G.nodes():\n",
    "    content = (G.nodes[node][\"Content\"]).lower()\n",
    "    content = reduce((lambda x, y: x.replace(y, \" \")), punc_ls, content)\n",
    "    G.nodes[node][\"Tokens\"] = word_tokenize(content)\n",
    "## Calculate sentiment for each page\n",
    "nodes_done =0\n",
    "\n",
    "for node in G.nodes():\n",
    "    G.nodes[node][\"Sentiment\"] = sentiment(G.nodes[node][\"Tokens\"], wordlist)\n",
    "    print(\"Sentiment progress: \", nodes_done/len(G.nodes()), end=\"\\r\")\n",
    "    \n",
    "sentiments = [G.nodes[node][\"Sentiment\"] for node in G.nodes()]\n",
    "mean = sum(sentiments)/len(sentiments)\n",
    "median = sorted(sentiments)[len(sentiments)//2]\n",
    "\n"
   ]
  },
  {
   "cell_type": "code",
   "execution_count": 108,
   "metadata": {},
   "outputs": [
    {
     "name": "stdout",
     "output_type": "stream",
     "text": [
      "Mean sentiment:  5.685329034136576 Median sentiment:  5.686389676687381\n",
      "Happiest artists:  ['McAlister Kemp', 'Troy Cassar-Daley', 'Donny Parenteau', 'Spirit Family Reunion', 'Aleyce Simmonds', 'John Carter Cash', 'Lanco (band)', 'Mallary Hope', 'The Wolfe Brothers', 'Graeme Connors']\n",
      "Sadist artists:  ['Those Poor Bastards', 'David _Stringbean_ Akeman', 'Bill Phillips (singer)', 'Cliff Carlisle', 'Bill Haley & His Comets', 'Roger Alan Wade', 'Spade Cooley', 'The Big Bopper', 'Johnny Paycheck', 'Little Jimmy Dickens']\n"
     ]
    },
    {
     "data": {
      "image/png": "[encoded data removed]",
      "text/plain": [
       "<Figure size 640x480 with 1 Axes>"
      ]
     },
     "metadata": {},
     "output_type": "display_data"
    }
   ],
   "source": [
    "print(\"Mean sentiment: \", mean, \"Median sentiment: \", median)\n",
    "his,bins = np.histogram(sentiments)\n",
    "plt.hist(sentiments, bins)\n",
    "\n",
    "happiest_artists = sorted(G.nodes(data=True), key=lambda x: x[1][\"Sentiment\"], reverse=True)[:10]\n",
    "happiest_artists = [art[0] for art in happiest_artists]\n",
    "Sadist_artists = sorted(G.nodes(data=True), key=lambda x: x[1][\"Sentiment\"], reverse=False)[:10]\n",
    "Sadist_artists = [art[0] for art in Sadist_artists]\n",
    "print(\"Happiest artists: \", happiest_artists)\n",
    "print(\"Sadist artists: \", Sadist_artists)\n"
   ]
  },
  {
   "cell_type": "code",
   "execution_count": 106,
   "metadata": {},
   "outputs": [
    {
     "name": "stdout",
     "output_type": "stream",
     "text": [
      "Community sentiments:  {3: 5.641709574441094, 1: 5.722528439437901, 0: 5.688492468171708, 8: 5.679465508599323, 4: 5.686725931721462, 12: 5.6923018570158925, 7: 5.779715012522674, 10: 5.701999103851487, 14: 5.7243281149444485, 9: 5.742446866954223}\n"
     ]
    }
   ],
   "source": [
    "\"\"\"\n",
    "*Exercise*: Community sentiment distribution. \n",
    "  \n",
    "> * Last week we calculated the stuctural communities of the graph. For this exercise, we use those communities (just the 10 largest ones). Specifically, you should calculate the average the average sentiment of the nodes in each community to find a *community level sentiment*. \n",
    ">   - Name each community by its three most connected characters. \n",
    ">   - What are the three happiest communities? \n",
    ">   - what are the three saddest communities?\n",
    ">   - Do these results confirm what you can learn about each community by comparing to the genres, checking out the word-clouds for each community, and reading the wiki-pages? \n",
    "> * Compare the sentiment of the happiest and saddest communities to the overall (entire network) distribution of sentiment that you calculated in the previous exercise. Are the communities very differenct from the average? Or do you find the sentiment to be quite similar across all of the communities?\n",
    "\"\"\"\n",
    "\n",
    "from community import community_louvain\n",
    "partition = community_louvain.best_partition(G)\n",
    "value_to_keys = {}\n",
    "for key, value in partition.items():\n",
    "    if value not in value_to_keys:\n",
    "        value_to_keys[value] = []\n",
    "    value_to_keys[value].append(key)\n",
    "biggest_communities = sorted(value_to_keys.items(), key=lambda x: len(x[1]), reverse=True)[:10]\n",
    "community_sentiments = {}\n",
    "for community in biggest_communities:\n",
    "    sentiment = 0\n",
    "    for node in community[1]:\n",
    "        sentiment+=G.nodes[node][\"Sentiment\"]\n",
    "    community_sentiments[community[0]] = sentiment/len(community[1])\n",
    "print(\"Community sentiments: \", community_sentiments)\n"
   ]
  },
  {
   "cell_type": "code",
   "execution_count": 2,
   "metadata": {},
   "outputs": [
    {
     "name": "stdout",
     "output_type": "stream",
     "text": [
      "[SentiSynset('happy.a.01'), SentiSynset('felicitous.s.02'), SentiSynset('glad.s.02'), SentiSynset('happy.s.04')]\n"
     ]
    }
   ],
   "source": [
    "from nltk.corpus import sentiwordnet as swn\n",
    "print(list(swn.senti_synsets('happy')))"
   ]
  }
 ],
 "metadata": {
  "kernelspec": {
   "display_name": ".venv",
   "language": "python",
   "name": "python3"
  },
  "language_info": {
   "codemirror_mode": {
    "name": "ipython",
    "version": 3
   },
   "file_extension": ".py",
   "mimetype": "text/x-python",
   "name": "python",
   "nbconvert_exporter": "python",
   "pygments_lexer": "ipython3",
   "version": "3.12.6"
  }
 },
 "nbformat": 4,
 "nbformat_minor": 4
}
